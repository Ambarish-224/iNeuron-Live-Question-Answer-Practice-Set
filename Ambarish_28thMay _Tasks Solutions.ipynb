{
 "cells": [
  {
   "cell_type": "raw",
   "id": "efbf2063",
   "metadata": {},
   "source": [
    "\n",
    "\n",
    "------------------------------------------------------------------\n",
    "       Task-3 :- Question & Answer Sets ( 28th May,2022 ):-\n",
    "-------------------------------------------------------------------\n",
    "\n",
    "\"\"\"\n",
    "Q.1)\n",
    "\n",
    "ineuron \n",
    "ineuron ineuron\n",
    "ineuron ineuron ineuron\n",
    "ineuron ineuron ineuron ineuron\n",
    "\n",
    "\n",
    "q.2)\n",
    "\n",
    ".....*.....*ineuron.....*.....*\n",
    ".....*ineuron.....*ineuron.....*\n",
    "ineuron.....*ineuron.....*ineuron\n",
    ".....*ineuron.....*ineuron.....*\n",
    ".....*.....*ineuron.....*.....*\n",
    "\n",
    "\n",
    "\n",
    "\n",
    "\n",
    "\n",
    "\n",
    "\n",
    "\"\"\" l =[[1,2,3,4], (2,3,4,5,6), (3,4,5,6,7), set([23,4,5,45,4,4,5,45,45,4,5]),{'k1' : \"sudh\" , 'k2' : \"ineuron\", 'k3' : \n",
    "                                                     \"kumar\", 3:6, 7:8}, [\"ineuron\", \"data science\"]] \"\"\"\n",
    "\n",
    "\n",
    "q.3) Try to extract all the list entity.\n",
    "q.4) Try to extract all the dict entity.\n",
    "q.5) Try to extract all the Tuples entity.\n",
    "q.6) Try to extract all the Numeric data it may be a part of dict key and values.\n",
    "q.7) Try to give summation of all the numeric data.\n",
    "q.8) Try to filter out all the odd values out all numeric datawhich is  a part of a list.\n",
    "q.9) Try to extract \"ineuron\" out of this dataset.\n",
    "q.10) Try to find out a number of occurance of all the data.\n",
    "q.11) Try to find out a number of keys in dict element.\n",
    "q.12) Try to filter out all the string data.\n",
    "q.13) Try to find out alphanum in data.\n",
    "q.14) Try to find out multiplication of all numeric value in the individual collection inside dataset.\n",
    "q.15) Try to unwrape all the collection inside collection and create a flat list.\n",
    "\n",
    "\n",
    "Submit before 29th May 3 pm Ist, you have to send an answer to me or to shivan.\n",
    "sudhanshu@ineuron.ai\n",
    "shivan@ineuron.ai\n",
    "\n",
    "\"\"\""
   ]
  },
  {
   "cell_type": "code",
   "execution_count": 2,
   "id": "070ec906",
   "metadata": {},
   "outputs": [
    {
     "name": "stdout",
     "output_type": "stream",
     "text": [
      "ineuron \n",
      "ineuron ineuron \n",
      "ineuron ineuron ineuron \n",
      "ineuron ineuron ineuron ineuron \n"
     ]
    }
   ],
   "source": [
    "\"\"\"\n",
    "Q.1)\n",
    "\n",
    "ineuron \n",
    "ineuron ineuron\n",
    "ineuron ineuron ineuron\n",
    "ineuron ineuron ineuron ineuron\n",
    "\n",
    "\"\"\"\n",
    "\n",
    "n = 4\n",
    "for i in range(4) :\n",
    "    for j in range(0, i+1) :\n",
    "        print(\"ineuron\", end = \" \")\n",
    "    print()  "
   ]
  },
  {
   "cell_type": "code",
   "execution_count": 211,
   "id": "30680a8d",
   "metadata": {},
   "outputs": [
    {
     "name": "stdout",
     "output_type": "stream",
     "text": [
      "                                ineuron \n",
      "                        ineuron ineuron ineuron \n",
      "                ineuron ineuron ineuron ineuron ineuron \n",
      "        ineuron ineuron ineuron ineuron ineuron ineuron ineuron \n",
      "ineuron ineuron ineuron ineuron ineuron ineuron ineuron ineuron ineuron \n"
     ]
    }
   ],
   "source": [
    "\"\"\"\n",
    "Q.2)\n",
    "\n",
    ".....*.....*ineuron.....*.....*\n",
    ".....*ineuron.....*ineuron.....*\n",
    "ineuron.....*ineuron.....*ineuron\n",
    ".....*ineuron.....*ineuron.....*\n",
    ".....*.....*ineuron.....*.....*\n",
    "\n",
    "\"\"\"\n",
    "\n",
    "n = 5\n",
    "for i in range(n):\n",
    "    for j in range(i, n-1) :\n",
    "        print(\" \" * len(\"ineuron\"), end= \" \")\n",
    "    for j in range(i+1) :\n",
    "        print(\"ineuron\",end= \" \")\n",
    "    for j in range(i) :\n",
    "        print(\"ineuron\",end= \" \")         \n",
    "    print()  \n"
   ]
  },
  {
   "cell_type": "code",
   "execution_count": 153,
   "id": "f0c2ea98",
   "metadata": {},
   "outputs": [],
   "source": [
    "l =[[1,2,3,4], (2,3,4,5,6), (3,4,5,6,7), set([23,4,5,45,4,4,5,45,45,4,5]),{'k1' : \"sudh\" , 'k2' : \"ineuron\", 'k3' : \n",
    "                                                     \"kumar\", 3:6, 7:8}, [\"ineuron\", \"data science\"]]"
   ]
  },
  {
   "cell_type": "code",
   "execution_count": 154,
   "id": "d0099415",
   "metadata": {},
   "outputs": [
    {
     "name": "stdout",
     "output_type": "stream",
     "text": [
      "[1, 2, 3, 4]\n",
      "['ineuron', 'data science']\n"
     ]
    }
   ],
   "source": [
    "# Q.3) Try to extract all the list entity.\n",
    "\n",
    "for i in l :\n",
    "    if type(i) == list :\n",
    "        print(i)"
   ]
  },
  {
   "cell_type": "code",
   "execution_count": 155,
   "id": "82b69d89",
   "metadata": {},
   "outputs": [
    {
     "name": "stdout",
     "output_type": "stream",
     "text": [
      "{'k1': 'sudh', 'k2': 'ineuron', 'k3': 'kumar', 3: 6, 7: 8}\n"
     ]
    }
   ],
   "source": [
    "# Q.4) Try to extract all the dict entity.\n",
    "\n",
    "for i in l :\n",
    "    if type(i) == dict :\n",
    "        print(i)\n",
    "                    "
   ]
  },
  {
   "cell_type": "code",
   "execution_count": 156,
   "id": "3c73dd6b",
   "metadata": {},
   "outputs": [
    {
     "name": "stdout",
     "output_type": "stream",
     "text": [
      "(2, 3, 4, 5, 6)\n",
      "(3, 4, 5, 6, 7)\n"
     ]
    }
   ],
   "source": [
    "#Q.5) Try to extract all the Tuples entity.\n",
    "\n",
    "for i in l :\n",
    "    if type(i) == tuple :\n",
    "        print(i)"
   ]
  },
  {
   "cell_type": "code",
   "execution_count": 172,
   "id": "5afd2dc3",
   "metadata": {},
   "outputs": [
    {
     "name": "stdout",
     "output_type": "stream",
     "text": [
      "[1, 2, 3, 4, 2, 3, 4, 5, 6, 3, 4, 5, 6, 7, 45, 4, 5, 23, 3, 6, 7, 8]\n"
     ]
    }
   ],
   "source": [
    "# Q.6) Try to extract all the Numeric data it may be a part of dict key and values.\n",
    "\n",
    "l\n",
    "l1 =[]\n",
    " \n",
    "for i in l :\n",
    "    if type(i) == list or type(i) == tuple or type(i) == set :\n",
    "        for j in i :\n",
    "            if type(j) == int :\n",
    "                l1.append(j)\n",
    "    if type(i) == dict :\n",
    "        for k in i.items() :\n",
    "            for m in k :\n",
    "                if type(m) == int :\n",
    "                    l1.append(m)\n",
    "print(l1)                    \n"
   ]
  },
  {
   "cell_type": "code",
   "execution_count": 173,
   "id": "3309f5fc",
   "metadata": {},
   "outputs": [
    {
     "name": "stdout",
     "output_type": "stream",
     "text": [
      "[1, 2, 3, 4, 2, 3, 4, 5, 6, 3, 4, 5, 6, 7, 45, 4, 5, 23, 3, 6, 7, 8]\n"
     ]
    }
   ],
   "source": [
    "# Q.7) Try to give summation of all the numeric data.\n",
    "\n",
    "l\n",
    "l2 =[]\n",
    " \n",
    "for i in l :\n",
    "    if type(i) == list or type(i) == tuple or type(i) == set :\n",
    "        for j in i :\n",
    "            if type(j) == int :\n",
    "                l2.append(j)\n",
    "    if type(i) == dict :\n",
    "        for k in i.items() :\n",
    "            for m in k :\n",
    "                if type(m) == int :\n",
    "                    l2.append(m)\n",
    "print(l2)                    "
   ]
  },
  {
   "cell_type": "code",
   "execution_count": 174,
   "id": "edf9c2a8",
   "metadata": {},
   "outputs": [
    {
     "name": "stdout",
     "output_type": "stream",
     "text": [
      "[1, 3, 3, 5, 3, 5, 7, 45, 5, 23, 3, 7]\n"
     ]
    }
   ],
   "source": [
    "# Q.8) Try to filter out all the odd values out all numeric datawhich is  a part of a list.\n",
    "\n",
    "l\n",
    "l3 =[]\n",
    " \n",
    "for i in l :\n",
    "    if type(i) == list or type(i) == tuple or type(i) == set :\n",
    "        for j in i :\n",
    "            if type(j) == int :\n",
    "                if j%2 == 1 :\n",
    "                    l3.append(j)\n",
    "                \n",
    "    if type(i) == dict :\n",
    "        for k in i.items() :\n",
    "            for m in k :\n",
    "                if type(m) == int :\n",
    "                    if m%2 == 1 :\n",
    "                        l3.append(m)\n",
    "print(l3)                        \n",
    "                    "
   ]
  },
  {
   "cell_type": "code",
   "execution_count": 175,
   "id": "7c23ec2b",
   "metadata": {},
   "outputs": [
    {
     "name": "stdout",
     "output_type": "stream",
     "text": [
      "['ineuron', 'ineuron']\n"
     ]
    }
   ],
   "source": [
    "# Q.9) Try to extract \"ineuron\" out of this dataset.\n",
    "\n",
    "l\n",
    "l4 =[]\n",
    " \n",
    "for i in l :\n",
    "    if type(i) == list or type(i) == tuple or type(i) == set :\n",
    "        for j in i :\n",
    "            if j == \"ineuron\" :\n",
    "                l4.append(j)\n",
    "                \n",
    "    if type(i) == dict :\n",
    "        for k in i.items() :\n",
    "            for m in k :\n",
    "                if m == \"ineuron\" :\n",
    "                    l4.append(m)\n",
    "print(l4)                    "
   ]
  },
  {
   "cell_type": "code",
   "execution_count": 201,
   "id": "eff73b71",
   "metadata": {},
   "outputs": [
    {
     "name": "stdout",
     "output_type": "stream",
     "text": [
      "[1, 2, 3, 4, 2, 3, 4, 5, 6, 3, 4, 5, 6, 7, 45, 4, 5, 23, 3, 6, 7, 8]\n"
     ]
    },
    {
     "data": {
      "text/plain": [
       "0"
      ]
     },
     "execution_count": 201,
     "metadata": {},
     "output_type": "execute_result"
    }
   ],
   "source": [
    "# Q.10) Try to find out a number of occurance of all the data.\n",
    "\n",
    "l\n",
    "l5 =[]\n",
    " \n",
    "for i in l :\n",
    "    if type(i) == list or type(i) == tuple or type(i) == set :\n",
    "        for j in i :\n",
    "            if type(j) == int :\n",
    "                l5.append(j)\n",
    "    if type(i) == dict :\n",
    "        for k in i.items() :\n",
    "            for m in k :\n",
    "                if type(m) == int :\n",
    "                    l5.append(m)\n",
    "\n",
    "print(l5)\n",
    "l5.count(l5)\n"
   ]
  },
  {
   "cell_type": "code",
   "execution_count": 204,
   "id": "8be727d0",
   "metadata": {},
   "outputs": [
    {
     "name": "stdout",
     "output_type": "stream",
     "text": [
      "['k1', 'k2', 'k3', 3, 7]\n"
     ]
    }
   ],
   "source": [
    "# Q.11) Try to find out a number of keys in dict element.\n",
    "\n",
    "l\n",
    "l6 =[]\n",
    "for i in l :\n",
    "    if type(i) == dict :\n",
    "        for k,v in i.items() :\n",
    "            l6.append(k)\n",
    "print(l6)    \n",
    "\n"
   ]
  },
  {
   "cell_type": "code",
   "execution_count": 206,
   "id": "b653742e",
   "metadata": {},
   "outputs": [
    {
     "name": "stdout",
     "output_type": "stream",
     "text": [
      "['k1', 'sudh', 'k2', 'ineuron', 'k3', 'kumar', 'ineuron', 'data science']\n"
     ]
    }
   ],
   "source": [
    "# Q.12) Try to filter out all the string data.\n",
    "\n",
    "l\n",
    "l7 =[]\n",
    " \n",
    "for i in l :\n",
    "    if type(i) == list or type(i) == tuple or type(i) == set :\n",
    "        for j in i :\n",
    "            if type(j) == str :\n",
    "                l7.append(j)\n",
    "    if type(i) == dict :\n",
    "        for k in i.items() :\n",
    "            for m in k :\n",
    "                if type(m) == str :\n",
    "                    l7.append(m)\n",
    "print(l7)                    "
   ]
  },
  {
   "cell_type": "code",
   "execution_count": 208,
   "id": "c0c6d048",
   "metadata": {},
   "outputs": [
    {
     "ename": "AttributeError",
     "evalue": "'int' object has no attribute 'isalnum'",
     "output_type": "error",
     "traceback": [
      "\u001b[1;31m---------------------------------------------------------------------------\u001b[0m",
      "\u001b[1;31mAttributeError\u001b[0m                            Traceback (most recent call last)",
      "\u001b[1;32m~\\AppData\\Local\\Temp/ipykernel_1916/2490823823.py\u001b[0m in \u001b[0;36m<module>\u001b[1;34m\u001b[0m\n\u001b[0;32m      7\u001b[0m     \u001b[1;32mif\u001b[0m \u001b[0mtype\u001b[0m\u001b[1;33m(\u001b[0m\u001b[0mi\u001b[0m\u001b[1;33m)\u001b[0m \u001b[1;33m==\u001b[0m \u001b[0mlist\u001b[0m \u001b[1;32mor\u001b[0m \u001b[0mtype\u001b[0m\u001b[1;33m(\u001b[0m\u001b[0mi\u001b[0m\u001b[1;33m)\u001b[0m \u001b[1;33m==\u001b[0m \u001b[0mtuple\u001b[0m \u001b[1;32mor\u001b[0m \u001b[0mtype\u001b[0m\u001b[1;33m(\u001b[0m\u001b[0mi\u001b[0m\u001b[1;33m)\u001b[0m \u001b[1;33m==\u001b[0m \u001b[0mset\u001b[0m \u001b[1;33m:\u001b[0m\u001b[1;33m\u001b[0m\u001b[1;33m\u001b[0m\u001b[0m\n\u001b[0;32m      8\u001b[0m         \u001b[1;32mfor\u001b[0m \u001b[0mj\u001b[0m \u001b[1;32min\u001b[0m \u001b[0mi\u001b[0m \u001b[1;33m:\u001b[0m\u001b[1;33m\u001b[0m\u001b[1;33m\u001b[0m\u001b[0m\n\u001b[1;32m----> 9\u001b[1;33m             \u001b[1;32mif\u001b[0m \u001b[0mj\u001b[0m\u001b[1;33m.\u001b[0m\u001b[0misalnum\u001b[0m\u001b[1;33m(\u001b[0m\u001b[1;33m)\u001b[0m \u001b[1;33m==\u001b[0m \u001b[0mtrue\u001b[0m \u001b[1;33m:\u001b[0m\u001b[1;33m\u001b[0m\u001b[1;33m\u001b[0m\u001b[0m\n\u001b[0m\u001b[0;32m     10\u001b[0m                 \u001b[0ml8\u001b[0m\u001b[1;33m.\u001b[0m\u001b[0mappend\u001b[0m\u001b[1;33m(\u001b[0m\u001b[0mj\u001b[0m\u001b[1;33m)\u001b[0m\u001b[1;33m\u001b[0m\u001b[1;33m\u001b[0m\u001b[0m\n\u001b[0;32m     11\u001b[0m     \u001b[1;32mif\u001b[0m \u001b[0mtype\u001b[0m\u001b[1;33m(\u001b[0m\u001b[0mi\u001b[0m\u001b[1;33m)\u001b[0m \u001b[1;33m==\u001b[0m \u001b[0mdict\u001b[0m \u001b[1;33m:\u001b[0m\u001b[1;33m\u001b[0m\u001b[1;33m\u001b[0m\u001b[0m\n",
      "\u001b[1;31mAttributeError\u001b[0m: 'int' object has no attribute 'isalnum'"
     ]
    }
   ],
   "source": [
    "# Q.13) Try to find out alphanum in data.\n",
    "\n",
    "l\n",
    "l8 =[]\n",
    " \n",
    "for i in l :\n",
    "    if type(i) == list or type(i) == tuple or type(i) == set :\n",
    "        for j in i :\n",
    "            if j.isalnum() == true :\n",
    "                l8.append(j)\n",
    "    if type(i) == dict :\n",
    "        for k in i.items() :\n",
    "            for m in k :\n",
    "                if m.isalnum() == True :\n",
    "                    l8.append(m)\n",
    "print(l8)                    \n"
   ]
  },
  {
   "cell_type": "code",
   "execution_count": 210,
   "id": "c27fee12",
   "metadata": {},
   "outputs": [
    {
     "name": "stdout",
     "output_type": "stream",
     "text": [
      "[1, 2, 3, 4]\n",
      "(2, 3, 4, 5, 6, 2, 3, 4, 5, 6)\n",
      "(3, 4, 5, 6, 7, 3, 4, 5, 6, 7, 3, 4, 5, 6, 7)\n"
     ]
    },
    {
     "ename": "TypeError",
     "evalue": "unsupported operand type(s) for *: 'int' and 'set'",
     "output_type": "error",
     "traceback": [
      "\u001b[1;31m---------------------------------------------------------------------------\u001b[0m",
      "\u001b[1;31mTypeError\u001b[0m                                 Traceback (most recent call last)",
      "\u001b[1;32m~\\AppData\\Local\\Temp/ipykernel_1916/3958796984.py\u001b[0m in \u001b[0;36m<module>\u001b[1;34m\u001b[0m\n\u001b[0;32m      8\u001b[0m         \u001b[1;32mfor\u001b[0m \u001b[0mj\u001b[0m \u001b[1;32min\u001b[0m \u001b[0mi\u001b[0m \u001b[1;33m:\u001b[0m\u001b[1;33m\u001b[0m\u001b[1;33m\u001b[0m\u001b[0m\n\u001b[0;32m      9\u001b[0m             \u001b[1;32mif\u001b[0m \u001b[0mtype\u001b[0m\u001b[1;33m(\u001b[0m\u001b[0mj\u001b[0m\u001b[1;33m)\u001b[0m \u001b[1;33m==\u001b[0m \u001b[0mint\u001b[0m \u001b[1;33m:\u001b[0m\u001b[1;33m\u001b[0m\u001b[1;33m\u001b[0m\u001b[0m\n\u001b[1;32m---> 10\u001b[1;33m                 \u001b[0mprint\u001b[0m\u001b[1;33m(\u001b[0m\u001b[0mj\u001b[0m\u001b[1;33m*\u001b[0m\u001b[0mi\u001b[0m\u001b[1;33m)\u001b[0m\u001b[1;33m\u001b[0m\u001b[1;33m\u001b[0m\u001b[0m\n\u001b[0m\u001b[0;32m     11\u001b[0m                 \u001b[1;32mbreak\u001b[0m\u001b[1;33m\u001b[0m\u001b[1;33m\u001b[0m\u001b[0m\n\u001b[0;32m     12\u001b[0m                 \u001b[0ml9\u001b[0m\u001b[1;33m.\u001b[0m\u001b[0mappend\u001b[0m\u001b[1;33m(\u001b[0m\u001b[0mj\u001b[0m\u001b[1;33m)\u001b[0m\u001b[1;33m\u001b[0m\u001b[1;33m\u001b[0m\u001b[0m\n",
      "\u001b[1;31mTypeError\u001b[0m: unsupported operand type(s) for *: 'int' and 'set'"
     ]
    }
   ],
   "source": [
    "# Q.14) Try to find out multiplication of all numeric value in the individual collection inside dataset.\n",
    "\n",
    "l\n",
    "l9 =[]\n",
    " \n",
    "for i in l :\n",
    "    if type(i) == list or type(i) == tuple or type(i) == set :\n",
    "        for j in i :\n",
    "            if type(j) == int :\n",
    "                print(j*i)\n",
    "                break\n",
    "                l9.append(j)\n",
    "    if type(i) == dict :\n",
    "        for k in i.items() :\n",
    "            for m in k :\n",
    "                if type(m) == int :\n",
    "                    print(m*n)\n",
    "                    break\n",
    "                    l9.append(m)\n",
    "print(l9)   \n"
   ]
  },
  {
   "cell_type": "code",
   "execution_count": 140,
   "id": "9383f6cc",
   "metadata": {},
   "outputs": [
    {
     "name": "stdout",
     "output_type": "stream",
     "text": [
      "[1, 2, 3, 4, 2, 3, 4, 5, 6, 3, 4, 5, 6, 7, 45, 4, 5, 23, 'k1', 'sudh', 'k2', 'ineuron', 'k3', 'kumar', 3, 6, 7, 8, 'ineuron', 'data science'] "
     ]
    }
   ],
   "source": [
    "# Q.15) Try to unwrape all the collection inside collection and create a flat list.\n",
    "\n",
    "l\n",
    "l5 =[]\n",
    " \n",
    "for i in l :\n",
    "    if type(i) == list or type(i) == tuple or type(i) == set :\n",
    "        for j in i :\n",
    "            l5.append(j)\n",
    "    if type(i) == dict :\n",
    "        for k in i.items() :\n",
    "            for m in k :\n",
    "                l5.append(m)\n",
    "print(l5, end= \" \")\n",
    "                "
   ]
  },
  {
   "cell_type": "code",
   "execution_count": null,
   "id": "331c40a5",
   "metadata": {},
   "outputs": [],
   "source": []
  }
 ],
 "metadata": {
  "kernelspec": {
   "display_name": "Python 3 (ipykernel)",
   "language": "python",
   "name": "python3"
  },
  "language_info": {
   "codemirror_mode": {
    "name": "ipython",
    "version": 3
   },
   "file_extension": ".py",
   "mimetype": "text/x-python",
   "name": "python",
   "nbconvert_exporter": "python",
   "pygments_lexer": "ipython3",
   "version": "3.9.7"
  }
 },
 "nbformat": 4,
 "nbformat_minor": 5
}
