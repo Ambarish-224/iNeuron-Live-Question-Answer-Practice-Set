{
 "cells": [
  {
   "cell_type": "code",
   "execution_count": 50,
   "id": "60683410",
   "metadata": {},
   "outputs": [
    {
     "data": {
      "text/plain": [
       "'this is My First Python programming class and i am learNING python string and its function'"
      ]
     },
     "execution_count": 50,
     "metadata": {},
     "output_type": "execute_result"
    }
   ],
   "source": [
    "'''\n",
    "------------------------------------------------------------------\n",
    "       Day-1 :- Question & Answer Sets ( 15th May,2022 ):-\n",
    "-------------------------------------------------------------------\n",
    "\n",
    "s = \"this is My First Python programming class and i am learNING python string and its function.\"\n",
    "\n",
    "1 . Try to extract data from index one to index 300 with a jump of 3 \n",
    "2. Try to reverse a string without using reverse function \n",
    "3. Try to split a string after conversion of entire string in uppercase \n",
    "4. try to convert the whole string into lower case \n",
    "5 . Try to capitalize the whole string \n",
    "6 . Write a diference between isalnum() and isalpha()\n",
    "7. Try to give an example of expand tab\n",
    "8 . Give an example of strip , lstrip and rstrip \n",
    "9.  Replace a string charecter by another charector by taking your own example \n",
    "\"sudhanshu\"\n",
    "10 . Try  to give a defination of string center function with and exmple \n",
    "11 . Write your own definition of compiler and interpretor without copy paste form internet in your own language\n",
    "12 . Python is a interpreted of compiled language give a clear ans with your understanding \n",
    "13 . Try to write a usecase of python with your understanding .\n",
    "\n",
    "\n",
    "You have to send a jupyter notebook to shivan@ineuron.ai before next saturday class 21st of may .\n",
    "'''\n",
    "\n"
   ]
  },
  {
   "cell_type": "code",
   "execution_count": 1,
   "id": "6d16faf0",
   "metadata": {},
   "outputs": [],
   "source": [
    "s = \"this is My First Python programming class and i am learNING python string and its function\" \n"
   ]
  },
  {
   "cell_type": "code",
   "execution_count": 2,
   "id": "ecb2d24f",
   "metadata": {},
   "outputs": [
    {
     "data": {
      "text/plain": [
       "'h   r tnrrmglsnimeNGyosi dtfco'"
      ]
     },
     "execution_count": 2,
     "metadata": {},
     "output_type": "execute_result"
    }
   ],
   "source": [
    "# Q.1) Try to extract data from index one to index 300 with a jump of 3. \n",
    "\n",
    "s[1:300:3]"
   ]
  },
  {
   "cell_type": "code",
   "execution_count": 9,
   "id": "d262cf0b",
   "metadata": {},
   "outputs": [
    {
     "data": {
      "text/plain": [
       "'noitcnuf sti dna gnirts nohtyp GNINrael ma i dna ssalc gnimmargorp nohtyP tsriF yM si siht'"
      ]
     },
     "execution_count": 9,
     "metadata": {},
     "output_type": "execute_result"
    }
   ],
   "source": [
    "# Q.2) Try to reverse a string without using reverse function. \n",
    "\n",
    "s[::-1]"
   ]
  },
  {
   "cell_type": "code",
   "execution_count": 15,
   "id": "01b95b6b",
   "metadata": {},
   "outputs": [
    {
     "data": {
      "text/plain": [
       "'THIS IS MY FIRST PYTHON PROGRAMMING CLASS AND I AM LEARNING PYTHON STRING AND ITS FUNCTION'"
      ]
     },
     "execution_count": 15,
     "metadata": {},
     "output_type": "execute_result"
    }
   ],
   "source": [
    "# Q.3) Try to split a string after conversion of entire string in uppercase.\n",
    "\n",
    "s1= s.upper()\n",
    "s1"
   ]
  },
  {
   "cell_type": "code",
   "execution_count": 17,
   "id": "afa9103b",
   "metadata": {},
   "outputs": [
    {
     "data": {
      "text/plain": [
       "'THIS IS MY FIRST PYTHON PROGRAMMING CLASS AND I AM LEARNING PYTHON STRING AND ITS FUNCTION'"
      ]
     },
     "execution_count": 17,
     "metadata": {},
     "output_type": "execute_result"
    }
   ],
   "source": [
    "s1"
   ]
  },
  {
   "cell_type": "code",
   "execution_count": 16,
   "id": "982cd555",
   "metadata": {},
   "outputs": [
    {
     "data": {
      "text/plain": [
       "['THIS',\n",
       " 'IS',\n",
       " 'MY',\n",
       " 'FIRST',\n",
       " 'PYTHON',\n",
       " 'PROGRAMMING',\n",
       " 'CLASS',\n",
       " 'AND',\n",
       " 'I',\n",
       " 'AM',\n",
       " 'LEARNING',\n",
       " 'PYTHON',\n",
       " 'STRING',\n",
       " 'AND',\n",
       " 'ITS',\n",
       " 'FUNCTION']"
      ]
     },
     "execution_count": 16,
     "metadata": {},
     "output_type": "execute_result"
    }
   ],
   "source": [
    "s1.split()"
   ]
  },
  {
   "cell_type": "code",
   "execution_count": 18,
   "id": "42afd92d",
   "metadata": {},
   "outputs": [
    {
     "data": {
      "text/plain": [
       "'this is my first python programming class and i am learning python string and its function'"
      ]
     },
     "execution_count": 18,
     "metadata": {},
     "output_type": "execute_result"
    }
   ],
   "source": [
    "# Q.4) Try to convert the whole string into lower case.\n",
    "\n",
    "s.lower()"
   ]
  },
  {
   "cell_type": "code",
   "execution_count": 19,
   "id": "a51a430f",
   "metadata": {},
   "outputs": [
    {
     "data": {
      "text/plain": [
       "'This is my first python programming class and i am learning python string and its function'"
      ]
     },
     "execution_count": 19,
     "metadata": {},
     "output_type": "execute_result"
    }
   ],
   "source": [
    "# Q.5) Try to capitalize the whole string.\n",
    "\n",
    "s.capitalize()"
   ]
  },
  {
   "cell_type": "code",
   "execution_count": 51,
   "id": "08a4b5d2",
   "metadata": {},
   "outputs": [],
   "source": [
    "# Q.6) Write a diference between isalnum() and isalpha().\n",
    "\n",
    "\n",
    "# Ans 6:-\n",
    "\n",
    "# isalnum() is a string Boolean Function where All Character in string should be Alphabet & numeric Character both- \n",
    "#   and then output will be True otherwise False.\n",
    "\n",
    "# isalpha () is a string Boolean Function where All Character in string should be only Alphabet Character-\n",
    "#     and then output will be True otherwise False.\n",
    " "
   ]
  },
  {
   "cell_type": "code",
   "execution_count": 21,
   "id": "144f60e5",
   "metadata": {},
   "outputs": [
    {
     "data": {
      "text/plain": [
       "'Ambarish        Singh   Rajput'"
      ]
     },
     "execution_count": 21,
     "metadata": {},
     "output_type": "execute_result"
    }
   ],
   "source": [
    "# Q.7) Try to give an example of expand tab.\n",
    "\n",
    "\n",
    "t = \"Ambarish\\tSingh\\tRajput\"\n",
    "\n",
    "t.expandtabs()"
   ]
  },
  {
   "cell_type": "code",
   "execution_count": 22,
   "id": "f1a21f3d",
   "metadata": {},
   "outputs": [],
   "source": [
    "# Q.8) Give an example of strip , lstrip and rstrip \n",
    "\n",
    "t= \"    Ambarish    \""
   ]
  },
  {
   "cell_type": "code",
   "execution_count": 23,
   "id": "a6f7b279",
   "metadata": {},
   "outputs": [
    {
     "data": {
      "text/plain": [
       "'Ambarish'"
      ]
     },
     "execution_count": 23,
     "metadata": {},
     "output_type": "execute_result"
    }
   ],
   "source": [
    "t.strip()"
   ]
  },
  {
   "cell_type": "code",
   "execution_count": 24,
   "id": "80655066",
   "metadata": {},
   "outputs": [
    {
     "data": {
      "text/plain": [
       "'Ambarish    '"
      ]
     },
     "execution_count": 24,
     "metadata": {},
     "output_type": "execute_result"
    }
   ],
   "source": [
    "t.lstrip()"
   ]
  },
  {
   "cell_type": "code",
   "execution_count": 25,
   "id": "9ea8cb86",
   "metadata": {},
   "outputs": [
    {
     "data": {
      "text/plain": [
       "'    Ambarish'"
      ]
     },
     "execution_count": 25,
     "metadata": {},
     "output_type": "execute_result"
    }
   ],
   "source": [
    "t.rstrip()"
   ]
  },
  {
   "cell_type": "code",
   "execution_count": 27,
   "id": "576ebc89",
   "metadata": {},
   "outputs": [],
   "source": [
    "# Q.9) Replace a string charecter by another charector by taking your own example \n",
    "\n",
    "m= \"Ambarish\""
   ]
  },
  {
   "cell_type": "code",
   "execution_count": 29,
   "id": "d142bc5e",
   "metadata": {},
   "outputs": [
    {
     "data": {
      "text/plain": [
       "'Ambzrish'"
      ]
     },
     "execution_count": 29,
     "metadata": {},
     "output_type": "execute_result"
    }
   ],
   "source": [
    "m.replace('a','z')"
   ]
  },
  {
   "cell_type": "code",
   "execution_count": 30,
   "id": "3b8d27db",
   "metadata": {},
   "outputs": [],
   "source": [
    "# Q.10) Try  to give a defination of string center function with and exmple \n",
    "\n",
    "\n",
    "# Ans.10) The Center() String function Return the Given String in center align with a special fill character.\n",
    "\n",
    "m = \"Ambar\""
   ]
  },
  {
   "cell_type": "code",
   "execution_count": 31,
   "id": "ea9ddb33",
   "metadata": {},
   "outputs": [
    {
     "data": {
      "text/plain": [
       "'#######Ambar########'"
      ]
     },
     "execution_count": 31,
     "metadata": {},
     "output_type": "execute_result"
    }
   ],
   "source": [
    "m.center(20,\"#\")"
   ]
  },
  {
   "cell_type": "code",
   "execution_count": 49,
   "id": "e0d0b7f3",
   "metadata": {},
   "outputs": [],
   "source": [
    "# Q.11) Write your own definition of compiler and interpreter without copy paste form internet in your own language.\n",
    " \n",
    "# Ans.11) Compiler Translates an entire code in one go while Interpreter translates code line by line.\n",
    " "
   ]
  },
  {
   "cell_type": "code",
   "execution_count": 46,
   "id": "6009f9f6",
   "metadata": {},
   "outputs": [],
   "source": [
    " # Q.12) Python is a interpreted or compiled language give a clear ans with your understanding?\n",
    " \n",
    " # Ans.12) Python is an Interpreted languages where code are translated line by line due to this,\n",
    " #        it is easily to debug any error quickly. \n",
    " "
   ]
  },
  {
   "cell_type": "code",
   "execution_count": 48,
   "id": "3f10a3c6",
   "metadata": {},
   "outputs": [],
   "source": [
    " #Q.13) Try to write a usecase of python with your understanding.\n",
    "      \n",
    "\n",
    "#    Ans.13) Python is commonly used for :-\n",
    "#          a) Developing websites and software\n",
    "#          b) Task automation\n",
    "#          c) Data analysis \n",
    "#          d) data visualization.\n",
    "#          e) and many more..\n",
    "     \n",
    "            \n",
    "    \n",
    "    \n",
    "    "
   ]
  },
  {
   "cell_type": "code",
   "execution_count": null,
   "id": "2417484c",
   "metadata": {},
   "outputs": [],
   "source": []
  }
 ],
 "metadata": {
  "kernelspec": {
   "display_name": "Python 3 (ipykernel)",
   "language": "python",
   "name": "python3"
  },
  "language_info": {
   "codemirror_mode": {
    "name": "ipython",
    "version": 3
   },
   "file_extension": ".py",
   "mimetype": "text/x-python",
   "name": "python",
   "nbconvert_exporter": "python",
   "pygments_lexer": "ipython3",
   "version": "3.9.7"
  }
 },
 "nbformat": 4,
 "nbformat_minor": 5
}
