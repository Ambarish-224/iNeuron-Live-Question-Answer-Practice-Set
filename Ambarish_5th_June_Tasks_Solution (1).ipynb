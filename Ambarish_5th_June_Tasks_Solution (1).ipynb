{
 "cells": [
  {
   "cell_type": "code",
   "execution_count": 3,
   "id": "5041d8ca",
   "metadata": {},
   "outputs": [],
   "source": [
    "\n",
    "\"\"\"\n",
    "------------------------------------------------------------------\n",
    "       Task-5 :- Question & Answer Sets ( 5th june, 2022):-\n",
    "-------------------------------------------------------------------\n",
    "  \n",
    "   q1. Try to print a prime number in between 1 to 1000.\n",
    "   q2. try to write a function which is equivalent to print function in python.\n",
    "   q3. try to write a function which is a replica  of list append, extend and pop function.\n",
    "   q4. try to write a lambda function which can return a concatination of all string you pass.\n",
    "   q5. try to write a lambda function which can return list of square of all the data between 1 to 100.\n",
    "   q6. try to write a 10 different example of lambda function with a choice of your tasks.\n",
    "   q7. try to write a function which can perform a read operation from .txt file.\n",
    "   \n",
    "\n",
    "-------------------------------------------------------------------\n",
    "-------------------------------------------------------------------\n",
    "\n",
    "   submit task before 11th june,2022 to :-\n",
    "   shivan@ineuron.ai\n",
    "   shushanshu@ineuron.ai\n",
    "\n",
    "\"\"\"\n",
    "a=10"
   ]
  },
  {
   "cell_type": "code",
   "execution_count": 9,
   "id": "0761f51e",
   "metadata": {},
   "outputs": [
    {
     "name": "stdout",
     "output_type": "stream",
     "text": [
      "2 3 5 7 11 13 17 19 23 29 31 37 41 43 47 53 59 61 67 71 73 79 83 89 97 101 103 107 109 113 127 131 137 139 149 151 157 163 167 173 179 181 191 193 197 199 211 223 227 229 233 239 241 251 257 263 269 271 277 281 283 293 307 311 313 317 331 337 347 349 353 359 367 373 379 383 389 397 401 409 419 421 431 433 439 443 449 457 461 463 467 479 487 491 499 503 509 521 523 541 547 557 563 569 571 577 587 593 599 601 607 613 617 619 631 641 643 647 653 659 661 673 677 683 691 701 709 719 727 733 739 743 751 757 761 769 773 787 797 809 811 821 823 827 829 839 853 857 859 863 877 881 883 887 907 911 919 929 937 941 947 953 967 971 977 983 991 997 "
     ]
    }
   ],
   "source": [
    "# Q.1) Try to print a prime number in between 1 to 1000.\n",
    "\n",
    "# Ans.1) \n",
    "\n",
    "for num in range(1,1001):\n",
    "   if num > 1:\n",
    "       for i in range(2,num):\n",
    "           if (num % i) == 0:\n",
    "               break\n",
    "       else:\n",
    "           print(num, end =\" \")\n",
    "            "
   ]
  },
  {
   "cell_type": "code",
   "execution_count": 10,
   "id": "dac5ece1",
   "metadata": {},
   "outputs": [],
   "source": [
    "# Q.2) try to write a function which is equivalent to print function in python.\n",
    "\n",
    "# Ans.2) \n",
    "\n",
    "def P_test() :\n",
    "    return \"I am Ambarish Singh\"\n",
    "    "
   ]
  },
  {
   "cell_type": "code",
   "execution_count": 11,
   "id": "8363d55b",
   "metadata": {},
   "outputs": [
    {
     "data": {
      "text/plain": [
       "'I am Ambarish Singh'"
      ]
     },
     "execution_count": 11,
     "metadata": {},
     "output_type": "execute_result"
    }
   ],
   "source": [
    "P_test()"
   ]
  },
  {
   "cell_type": "code",
   "execution_count": 18,
   "id": "0ab64f8b",
   "metadata": {},
   "outputs": [],
   "source": [
    "# Q.3) try to write a function which is a replica  of list append, extend and pop function.\n",
    "\n",
    "# Ans.3)\n",
    "\n",
    "def l_append(*a):\n",
    "    l=[]\n",
    "    for i in a :\n",
    "        i = i+a\n",
    "        return l   "
   ]
  },
  {
   "cell_type": "code",
   "execution_count": 19,
   "id": "636ea45b",
   "metadata": {},
   "outputs": [
    {
     "data": {
      "text/plain": [
       "[]"
      ]
     },
     "execution_count": 19,
     "metadata": {},
     "output_type": "execute_result"
    }
   ],
   "source": [
    "l_append(1,2,3,4)"
   ]
  },
  {
   "cell_type": "code",
   "execution_count": 27,
   "id": "5c007dd8",
   "metadata": {},
   "outputs": [],
   "source": [
    "# Q.4) try to write a lambda function which can return a concatination of all string you pass.\n",
    "\n",
    "# Ans.4)\n",
    "\n",
    "a = lambda *s :s + s"
   ]
  },
  {
   "cell_type": "code",
   "execution_count": 30,
   "id": "f0c25491",
   "metadata": {},
   "outputs": [
    {
     "data": {
      "text/plain": [
       "('ambar', 'ambar')"
      ]
     },
     "execution_count": 30,
     "metadata": {},
     "output_type": "execute_result"
    }
   ],
   "source": [
    "a(\"ambar\")"
   ]
  },
  {
   "cell_type": "code",
   "execution_count": 31,
   "id": "191b8360",
   "metadata": {},
   "outputs": [],
   "source": [
    "# Q.5) try to write a lambda function which can return list of square of all the data between 1 to 100.\n",
    "\n",
    "# Ans.5)\n",
    "\n",
    "sqrt = lambda range :[i*i for i in range(1,100)]"
   ]
  },
  {
   "cell_type": "code",
   "execution_count": 36,
   "id": "aa110cd4",
   "metadata": {},
   "outputs": [
    {
     "data": {
      "text/plain": [
       "[1,\n",
       " 4,\n",
       " 9,\n",
       " 16,\n",
       " 25,\n",
       " 36,\n",
       " 49,\n",
       " 64,\n",
       " 81,\n",
       " 100,\n",
       " 121,\n",
       " 144,\n",
       " 169,\n",
       " 196,\n",
       " 225,\n",
       " 256,\n",
       " 289,\n",
       " 324,\n",
       " 361,\n",
       " 400,\n",
       " 441,\n",
       " 484,\n",
       " 529,\n",
       " 576,\n",
       " 625,\n",
       " 676,\n",
       " 729,\n",
       " 784,\n",
       " 841,\n",
       " 900,\n",
       " 961,\n",
       " 1024,\n",
       " 1089,\n",
       " 1156,\n",
       " 1225,\n",
       " 1296,\n",
       " 1369,\n",
       " 1444,\n",
       " 1521,\n",
       " 1600,\n",
       " 1681,\n",
       " 1764,\n",
       " 1849,\n",
       " 1936,\n",
       " 2025,\n",
       " 2116,\n",
       " 2209,\n",
       " 2304,\n",
       " 2401,\n",
       " 2500,\n",
       " 2601,\n",
       " 2704,\n",
       " 2809,\n",
       " 2916,\n",
       " 3025,\n",
       " 3136,\n",
       " 3249,\n",
       " 3364,\n",
       " 3481,\n",
       " 3600,\n",
       " 3721,\n",
       " 3844,\n",
       " 3969,\n",
       " 4096,\n",
       " 4225,\n",
       " 4356,\n",
       " 4489,\n",
       " 4624,\n",
       " 4761,\n",
       " 4900,\n",
       " 5041,\n",
       " 5184,\n",
       " 5329,\n",
       " 5476,\n",
       " 5625,\n",
       " 5776,\n",
       " 5929,\n",
       " 6084,\n",
       " 6241,\n",
       " 6400,\n",
       " 6561,\n",
       " 6724,\n",
       " 6889,\n",
       " 7056,\n",
       " 7225,\n",
       " 7396,\n",
       " 7569,\n",
       " 7744,\n",
       " 7921,\n",
       " 8100,\n",
       " 8281,\n",
       " 8464,\n",
       " 8649,\n",
       " 8836,\n",
       " 9025,\n",
       " 9216,\n",
       " 9409,\n",
       " 9604,\n",
       " 9801]"
      ]
     },
     "execution_count": 36,
     "metadata": {},
     "output_type": "execute_result"
    }
   ],
   "source": [
    "sqrt(range)"
   ]
  },
  {
   "cell_type": "code",
   "execution_count": 90,
   "id": "0b74eaae",
   "metadata": {},
   "outputs": [],
   "source": [
    "# Q.6) try to write a 10 different example of lambda function with a choice of your tasks.\n",
    "\n",
    "# Ans.6)\n",
    "\n",
    "ex_1 = lambda a,b : a + b\n",
    "\n",
    "ex_2 = lambda a,b : a * b\n",
    "\n",
    "ex_3 = lambda *a : [i*i for i in a]\n",
    "\n",
    "ex_4 = lambda *a : [i**2 for i in a]\n",
    "\n",
    "ex_5 = lambda *a : [i**3 for i in a]\n",
    "\n",
    "ex_6 = lambda range :[i**2 for i in range(1,10)]\n",
    "\n",
    "ex_7 = lambda range :[i**3 for i in range(1,10)]\n",
    "\n",
    "ex_8 = lambda *s : s + s\n",
    "\n",
    "ex_9 = lambda a, b : a /b\n",
    "\n",
    "ex_10 = lambda a,b : a% b\n"
   ]
  },
  {
   "cell_type": "code",
   "execution_count": 54,
   "id": "0702ea21",
   "metadata": {},
   "outputs": [
    {
     "data": {
      "text/plain": [
       "5"
      ]
     },
     "execution_count": 54,
     "metadata": {},
     "output_type": "execute_result"
    }
   ],
   "source": [
    "ex_1(2,3)"
   ]
  },
  {
   "cell_type": "code",
   "execution_count": 55,
   "id": "349ae861",
   "metadata": {},
   "outputs": [
    {
     "data": {
      "text/plain": [
       "6"
      ]
     },
     "execution_count": 55,
     "metadata": {},
     "output_type": "execute_result"
    }
   ],
   "source": [
    "ex_2(2,3)"
   ]
  },
  {
   "cell_type": "code",
   "execution_count": 60,
   "id": "77de3dee",
   "metadata": {},
   "outputs": [
    {
     "data": {
      "text/plain": [
       "[1, 4, 9]"
      ]
     },
     "execution_count": 60,
     "metadata": {},
     "output_type": "execute_result"
    }
   ],
   "source": [
    "ex_3(1,2,3)"
   ]
  },
  {
   "cell_type": "code",
   "execution_count": 63,
   "id": "71f43f79",
   "metadata": {},
   "outputs": [
    {
     "data": {
      "text/plain": [
       "[1, 4, 9]"
      ]
     },
     "execution_count": 63,
     "metadata": {},
     "output_type": "execute_result"
    }
   ],
   "source": [
    "ex_4(1,2,3)"
   ]
  },
  {
   "cell_type": "code",
   "execution_count": 67,
   "id": "08629b11",
   "metadata": {},
   "outputs": [
    {
     "data": {
      "text/plain": [
       "[1, 8, 27]"
      ]
     },
     "execution_count": 67,
     "metadata": {},
     "output_type": "execute_result"
    }
   ],
   "source": [
    "ex_5(1,2,3)"
   ]
  },
  {
   "cell_type": "code",
   "execution_count": 79,
   "id": "824348de",
   "metadata": {},
   "outputs": [
    {
     "data": {
      "text/plain": [
       "[1, 4, 9, 16, 25, 36, 49, 64, 81]"
      ]
     },
     "execution_count": 79,
     "metadata": {},
     "output_type": "execute_result"
    }
   ],
   "source": [
    "ex_6(range)"
   ]
  },
  {
   "cell_type": "code",
   "execution_count": 78,
   "id": "7d2744d1",
   "metadata": {},
   "outputs": [
    {
     "data": {
      "text/plain": [
       "[1, 8, 27, 64, 125, 216, 343, 512, 729]"
      ]
     },
     "execution_count": 78,
     "metadata": {},
     "output_type": "execute_result"
    }
   ],
   "source": [
    "ex_7(range)"
   ]
  },
  {
   "cell_type": "code",
   "execution_count": 83,
   "id": "30717116",
   "metadata": {},
   "outputs": [
    {
     "data": {
      "text/plain": [
       "('ambar', 'ambar')"
      ]
     },
     "execution_count": 83,
     "metadata": {},
     "output_type": "execute_result"
    }
   ],
   "source": [
    "ex_8(\"ambar\")"
   ]
  },
  {
   "cell_type": "code",
   "execution_count": 89,
   "id": "26bec4cb",
   "metadata": {},
   "outputs": [
    {
     "data": {
      "text/plain": [
       "2.3333333333333335"
      ]
     },
     "execution_count": 89,
     "metadata": {},
     "output_type": "execute_result"
    }
   ],
   "source": [
    "ex_9(7,3)"
   ]
  },
  {
   "cell_type": "code",
   "execution_count": 93,
   "id": "b93b83d2",
   "metadata": {},
   "outputs": [
    {
     "data": {
      "text/plain": [
       "1"
      ]
     },
     "execution_count": 93,
     "metadata": {},
     "output_type": "execute_result"
    }
   ],
   "source": [
    "ex_10(5,2)"
   ]
  },
  {
   "cell_type": "code",
   "execution_count": null,
   "id": "361f188e",
   "metadata": {},
   "outputs": [],
   "source": [
    "# Q.7) try to write a function which can perform a read operation from .txt file.\n",
    "\n",
    "# Ans.7)\n"
   ]
  }
 ],
 "metadata": {
  "kernelspec": {
   "display_name": "Python 3 (ipykernel)",
   "language": "python",
   "name": "python3"
  },
  "language_info": {
   "codemirror_mode": {
    "name": "ipython",
    "version": 3
   },
   "file_extension": ".py",
   "mimetype": "text/x-python",
   "name": "python",
   "nbconvert_exporter": "python",
   "pygments_lexer": "ipython3",
   "version": "3.9.7"
  }
 },
 "nbformat": 4,
 "nbformat_minor": 5
}
